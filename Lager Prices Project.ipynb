{
 "cells": [
  {
   "cell_type": "markdown",
   "id": "bd85c6c5-d16e-4d0d-9e52-a2737b9976da",
   "metadata": {},
   "source": [
    "<strong>Import pd np plt And read csv file</strong>"
   ]
  },
  {
   "cell_type": "code",
   "execution_count": 1,
   "id": "55173cc5-ce8b-4462-912a-a3043a39e05e",
   "metadata": {},
   "outputs": [],
   "source": [
    "import pandas as pd"
   ]
  },
  {
   "cell_type": "code",
   "execution_count": 2,
   "id": "7f176842-c86a-4f02-ba49-a22923c705e1",
   "metadata": {},
   "outputs": [],
   "source": [
    "import numpy as np"
   ]
  },
  {
   "cell_type": "code",
   "execution_count": 3,
   "id": "564f276b-6a42-4309-ae37-9e27b91eeb05",
   "metadata": {},
   "outputs": [],
   "source": [
    "import matplotlib.pyplot as plt"
   ]
  },
  {
   "cell_type": "code",
   "execution_count": 4,
   "id": "1c7f857e-7952-4c2c-9e92-aedc1da1d0f1",
   "metadata": {},
   "outputs": [],
   "source": [
    "df = pd.read_csv(\"lager beer prices2.csv\")"
   ]
  },
  {
   "cell_type": "code",
   "execution_count": 5,
   "id": "f342c0d3-eb7d-4f19-9da9-34aa42d520a5",
   "metadata": {},
   "outputs": [
    {
     "data": {
      "text/html": [
       "<div>\n",
       "<style scoped>\n",
       "    .dataframe tbody tr th:only-of-type {\n",
       "        vertical-align: middle;\n",
       "    }\n",
       "\n",
       "    .dataframe tbody tr th {\n",
       "        vertical-align: top;\n",
       "    }\n",
       "\n",
       "    .dataframe thead th {\n",
       "        text-align: right;\n",
       "    }\n",
       "</style>\n",
       "<table border=\"1\" class=\"dataframe\">\n",
       "  <thead>\n",
       "    <tr style=\"text-align: right;\">\n",
       "      <th></th>\n",
       "      <th>TIME</th>\n",
       "      <th>GE</th>\n",
       "      <th>FR</th>\n",
       "      <th>GR</th>\n",
       "    </tr>\n",
       "  </thead>\n",
       "  <tbody>\n",
       "    <tr>\n",
       "      <th>0</th>\n",
       "      <td>2014-12</td>\n",
       "      <td>99.5</td>\n",
       "      <td>100.90</td>\n",
       "      <td>100.54</td>\n",
       "    </tr>\n",
       "    <tr>\n",
       "      <th>1</th>\n",
       "      <td>2015-01</td>\n",
       "      <td>99.3</td>\n",
       "      <td>100.68</td>\n",
       "      <td>101.42</td>\n",
       "    </tr>\n",
       "    <tr>\n",
       "      <th>2</th>\n",
       "      <td>2015-02</td>\n",
       "      <td>100.1</td>\n",
       "      <td>100.68</td>\n",
       "      <td>100.95</td>\n",
       "    </tr>\n",
       "    <tr>\n",
       "      <th>3</th>\n",
       "      <td>2015-03</td>\n",
       "      <td>100.1</td>\n",
       "      <td>100.65</td>\n",
       "      <td>99.91</td>\n",
       "    </tr>\n",
       "    <tr>\n",
       "      <th>4</th>\n",
       "      <td>2015-04</td>\n",
       "      <td>100.4</td>\n",
       "      <td>100.17</td>\n",
       "      <td>99.27</td>\n",
       "    </tr>\n",
       "    <tr>\n",
       "      <th>...</th>\n",
       "      <td>...</td>\n",
       "      <td>...</td>\n",
       "      <td>...</td>\n",
       "      <td>...</td>\n",
       "    </tr>\n",
       "    <tr>\n",
       "      <th>119</th>\n",
       "      <td>2024-11</td>\n",
       "      <td>131.5</td>\n",
       "      <td>122.26</td>\n",
       "      <td>137.49</td>\n",
       "    </tr>\n",
       "    <tr>\n",
       "      <th>120</th>\n",
       "      <td>2024-12</td>\n",
       "      <td>133.6</td>\n",
       "      <td>122.22</td>\n",
       "      <td>137.86</td>\n",
       "    </tr>\n",
       "    <tr>\n",
       "      <th>121</th>\n",
       "      <td>2025-01</td>\n",
       "      <td>131.1</td>\n",
       "      <td>121.88</td>\n",
       "      <td>140.15</td>\n",
       "    </tr>\n",
       "    <tr>\n",
       "      <th>122</th>\n",
       "      <td>2025-02</td>\n",
       "      <td>132.2</td>\n",
       "      <td>121.58</td>\n",
       "      <td>140.54</td>\n",
       "    </tr>\n",
       "    <tr>\n",
       "      <th>123</th>\n",
       "      <td>2025-03</td>\n",
       "      <td>131.4</td>\n",
       "      <td>121.28</td>\n",
       "      <td>138.02</td>\n",
       "    </tr>\n",
       "  </tbody>\n",
       "</table>\n",
       "<p>124 rows × 4 columns</p>\n",
       "</div>"
      ],
      "text/plain": [
       "        TIME     GE      FR      GR\n",
       "0    2014-12   99.5  100.90  100.54\n",
       "1    2015-01   99.3  100.68  101.42\n",
       "2    2015-02  100.1  100.68  100.95\n",
       "3    2015-03  100.1  100.65   99.91\n",
       "4    2015-04  100.4  100.17   99.27\n",
       "..       ...    ...     ...     ...\n",
       "119  2024-11  131.5  122.26  137.49\n",
       "120  2024-12  133.6  122.22  137.86\n",
       "121  2025-01  131.1  121.88  140.15\n",
       "122  2025-02  132.2  121.58  140.54\n",
       "123  2025-03  131.4  121.28  138.02\n",
       "\n",
       "[124 rows x 4 columns]"
      ]
     },
     "execution_count": 5,
     "metadata": {},
     "output_type": "execute_result"
    }
   ],
   "source": [
    "df"
   ]
  },
  {
   "cell_type": "markdown",
   "id": "e7c424d1-2511-417f-a318-75d3ead94e58",
   "metadata": {},
   "source": [
    "<strong>Basic Informations</strong>"
   ]
  },
  {
   "cell_type": "code",
   "execution_count": 6,
   "id": "1c97d857-d539-4179-a469-f44a3460e42d",
   "metadata": {},
   "outputs": [
    {
     "data": {
      "text/plain": [
       "<bound method DataFrame.info of         TIME     GE      FR      GR\n",
       "0    2014-12   99.5  100.90  100.54\n",
       "1    2015-01   99.3  100.68  101.42\n",
       "2    2015-02  100.1  100.68  100.95\n",
       "3    2015-03  100.1  100.65   99.91\n",
       "4    2015-04  100.4  100.17   99.27\n",
       "..       ...    ...     ...     ...\n",
       "119  2024-11  131.5  122.26  137.49\n",
       "120  2024-12  133.6  122.22  137.86\n",
       "121  2025-01  131.1  121.88  140.15\n",
       "122  2025-02  132.2  121.58  140.54\n",
       "123  2025-03  131.4  121.28  138.02\n",
       "\n",
       "[124 rows x 4 columns]>"
      ]
     },
     "execution_count": 6,
     "metadata": {},
     "output_type": "execute_result"
    }
   ],
   "source": [
    "df.info"
   ]
  },
  {
   "cell_type": "code",
   "execution_count": 7,
   "id": "22f10eb6-e3a3-4a52-aec8-939394092363",
   "metadata": {},
   "outputs": [
    {
     "data": {
      "text/html": [
       "<div>\n",
       "<style scoped>\n",
       "    .dataframe tbody tr th:only-of-type {\n",
       "        vertical-align: middle;\n",
       "    }\n",
       "\n",
       "    .dataframe tbody tr th {\n",
       "        vertical-align: top;\n",
       "    }\n",
       "\n",
       "    .dataframe thead th {\n",
       "        text-align: right;\n",
       "    }\n",
       "</style>\n",
       "<table border=\"1\" class=\"dataframe\">\n",
       "  <thead>\n",
       "    <tr style=\"text-align: right;\">\n",
       "      <th></th>\n",
       "      <th>GE</th>\n",
       "      <th>FR</th>\n",
       "      <th>GR</th>\n",
       "    </tr>\n",
       "  </thead>\n",
       "  <tbody>\n",
       "    <tr>\n",
       "      <th>count</th>\n",
       "      <td>124.000000</td>\n",
       "      <td>124.000000</td>\n",
       "      <td>124.000000</td>\n",
       "    </tr>\n",
       "    <tr>\n",
       "      <th>mean</th>\n",
       "      <td>110.093548</td>\n",
       "      <td>106.972500</td>\n",
       "      <td>118.128548</td>\n",
       "    </tr>\n",
       "    <tr>\n",
       "      <th>std</th>\n",
       "      <td>10.898585</td>\n",
       "      <td>7.817075</td>\n",
       "      <td>11.225548</td>\n",
       "    </tr>\n",
       "    <tr>\n",
       "      <th>min</th>\n",
       "      <td>99.200000</td>\n",
       "      <td>99.410000</td>\n",
       "      <td>98.650000</td>\n",
       "    </tr>\n",
       "    <tr>\n",
       "      <th>25%</th>\n",
       "      <td>101.300000</td>\n",
       "      <td>101.462500</td>\n",
       "      <td>114.282500</td>\n",
       "    </tr>\n",
       "    <tr>\n",
       "      <th>50%</th>\n",
       "      <td>106.450000</td>\n",
       "      <td>104.280000</td>\n",
       "      <td>115.600000</td>\n",
       "    </tr>\n",
       "    <tr>\n",
       "      <th>75%</th>\n",
       "      <td>115.575000</td>\n",
       "      <td>109.155000</td>\n",
       "      <td>125.120000</td>\n",
       "    </tr>\n",
       "    <tr>\n",
       "      <th>max</th>\n",
       "      <td>133.600000</td>\n",
       "      <td>122.310000</td>\n",
       "      <td>141.070000</td>\n",
       "    </tr>\n",
       "  </tbody>\n",
       "</table>\n",
       "</div>"
      ],
      "text/plain": [
       "               GE          FR          GR\n",
       "count  124.000000  124.000000  124.000000\n",
       "mean   110.093548  106.972500  118.128548\n",
       "std     10.898585    7.817075   11.225548\n",
       "min     99.200000   99.410000   98.650000\n",
       "25%    101.300000  101.462500  114.282500\n",
       "50%    106.450000  104.280000  115.600000\n",
       "75%    115.575000  109.155000  125.120000\n",
       "max    133.600000  122.310000  141.070000"
      ]
     },
     "execution_count": 7,
     "metadata": {},
     "output_type": "execute_result"
    }
   ],
   "source": [
    "df.describe()"
   ]
  },
  {
   "cell_type": "code",
   "execution_count": 8,
   "id": "27fe70e5-e59f-443a-bebd-2075cb9166d7",
   "metadata": {},
   "outputs": [
    {
     "data": {
      "text/plain": [
       "TIME     object\n",
       "GE      float64\n",
       "FR      float64\n",
       "GR      float64\n",
       "dtype: object"
      ]
     },
     "execution_count": 8,
     "metadata": {},
     "output_type": "execute_result"
    }
   ],
   "source": [
    "df.dtypes"
   ]
  },
  {
   "cell_type": "code",
   "execution_count": 9,
   "id": "32e6f1a3-bba4-41fc-bfbc-bf15bb898537",
   "metadata": {},
   "outputs": [
    {
     "data": {
      "text/html": [
       "<div>\n",
       "<style scoped>\n",
       "    .dataframe tbody tr th:only-of-type {\n",
       "        vertical-align: middle;\n",
       "    }\n",
       "\n",
       "    .dataframe tbody tr th {\n",
       "        vertical-align: top;\n",
       "    }\n",
       "\n",
       "    .dataframe thead th {\n",
       "        text-align: right;\n",
       "    }\n",
       "</style>\n",
       "<table border=\"1\" class=\"dataframe\">\n",
       "  <thead>\n",
       "    <tr style=\"text-align: right;\">\n",
       "      <th></th>\n",
       "      <th>TIME</th>\n",
       "      <th>GE</th>\n",
       "      <th>FR</th>\n",
       "      <th>GR</th>\n",
       "    </tr>\n",
       "  </thead>\n",
       "  <tbody>\n",
       "    <tr>\n",
       "      <th>0</th>\n",
       "      <td>2014-12</td>\n",
       "      <td>99.5</td>\n",
       "      <td>100.90</td>\n",
       "      <td>100.54</td>\n",
       "    </tr>\n",
       "    <tr>\n",
       "      <th>1</th>\n",
       "      <td>2015-01</td>\n",
       "      <td>99.3</td>\n",
       "      <td>100.68</td>\n",
       "      <td>101.42</td>\n",
       "    </tr>\n",
       "    <tr>\n",
       "      <th>2</th>\n",
       "      <td>2015-02</td>\n",
       "      <td>100.1</td>\n",
       "      <td>100.68</td>\n",
       "      <td>100.95</td>\n",
       "    </tr>\n",
       "    <tr>\n",
       "      <th>3</th>\n",
       "      <td>2015-03</td>\n",
       "      <td>100.1</td>\n",
       "      <td>100.65</td>\n",
       "      <td>99.91</td>\n",
       "    </tr>\n",
       "    <tr>\n",
       "      <th>4</th>\n",
       "      <td>2015-04</td>\n",
       "      <td>100.4</td>\n",
       "      <td>100.17</td>\n",
       "      <td>99.27</td>\n",
       "    </tr>\n",
       "  </tbody>\n",
       "</table>\n",
       "</div>"
      ],
      "text/plain": [
       "      TIME     GE      FR      GR\n",
       "0  2014-12   99.5  100.90  100.54\n",
       "1  2015-01   99.3  100.68  101.42\n",
       "2  2015-02  100.1  100.68  100.95\n",
       "3  2015-03  100.1  100.65   99.91\n",
       "4  2015-04  100.4  100.17   99.27"
      ]
     },
     "execution_count": 9,
     "metadata": {},
     "output_type": "execute_result"
    }
   ],
   "source": [
    "df.head()"
   ]
  },
  {
   "cell_type": "code",
   "execution_count": 10,
   "id": "b653749a-012f-43a8-90e8-933adc3165ad",
   "metadata": {},
   "outputs": [
    {
     "data": {
      "text/html": [
       "<div>\n",
       "<style scoped>\n",
       "    .dataframe tbody tr th:only-of-type {\n",
       "        vertical-align: middle;\n",
       "    }\n",
       "\n",
       "    .dataframe tbody tr th {\n",
       "        vertical-align: top;\n",
       "    }\n",
       "\n",
       "    .dataframe thead th {\n",
       "        text-align: right;\n",
       "    }\n",
       "</style>\n",
       "<table border=\"1\" class=\"dataframe\">\n",
       "  <thead>\n",
       "    <tr style=\"text-align: right;\">\n",
       "      <th></th>\n",
       "      <th>TIME</th>\n",
       "      <th>GE</th>\n",
       "      <th>FR</th>\n",
       "      <th>GR</th>\n",
       "    </tr>\n",
       "  </thead>\n",
       "  <tbody>\n",
       "    <tr>\n",
       "      <th>119</th>\n",
       "      <td>2024-11</td>\n",
       "      <td>131.5</td>\n",
       "      <td>122.26</td>\n",
       "      <td>137.49</td>\n",
       "    </tr>\n",
       "    <tr>\n",
       "      <th>120</th>\n",
       "      <td>2024-12</td>\n",
       "      <td>133.6</td>\n",
       "      <td>122.22</td>\n",
       "      <td>137.86</td>\n",
       "    </tr>\n",
       "    <tr>\n",
       "      <th>121</th>\n",
       "      <td>2025-01</td>\n",
       "      <td>131.1</td>\n",
       "      <td>121.88</td>\n",
       "      <td>140.15</td>\n",
       "    </tr>\n",
       "    <tr>\n",
       "      <th>122</th>\n",
       "      <td>2025-02</td>\n",
       "      <td>132.2</td>\n",
       "      <td>121.58</td>\n",
       "      <td>140.54</td>\n",
       "    </tr>\n",
       "    <tr>\n",
       "      <th>123</th>\n",
       "      <td>2025-03</td>\n",
       "      <td>131.4</td>\n",
       "      <td>121.28</td>\n",
       "      <td>138.02</td>\n",
       "    </tr>\n",
       "  </tbody>\n",
       "</table>\n",
       "</div>"
      ],
      "text/plain": [
       "        TIME     GE      FR      GR\n",
       "119  2024-11  131.5  122.26  137.49\n",
       "120  2024-12  133.6  122.22  137.86\n",
       "121  2025-01  131.1  121.88  140.15\n",
       "122  2025-02  132.2  121.58  140.54\n",
       "123  2025-03  131.4  121.28  138.02"
      ]
     },
     "execution_count": 10,
     "metadata": {},
     "output_type": "execute_result"
    }
   ],
   "source": [
    "df.tail()"
   ]
  },
  {
   "cell_type": "markdown",
   "id": "7f83974b-b7ef-4cd0-be08-b6a6927ef6fd",
   "metadata": {},
   "source": [
    "<strong>Time series</strong>"
   ]
  },
  {
   "cell_type": "code",
   "execution_count": 11,
   "id": "8d56a836-ab47-45f9-b135-77b1038e6445",
   "metadata": {},
   "outputs": [
    {
     "data": {
      "text/plain": [
       "0     2014-12-01\n",
       "1     2015-01-01\n",
       "2     2015-02-01\n",
       "3     2015-03-01\n",
       "4     2015-04-01\n",
       "         ...    \n",
       "119   2024-11-01\n",
       "120   2024-12-01\n",
       "121   2025-01-01\n",
       "122   2025-02-01\n",
       "123   2025-03-01\n",
       "Name: TIME, Length: 124, dtype: datetime64[ns]"
      ]
     },
     "execution_count": 11,
     "metadata": {},
     "output_type": "execute_result"
    }
   ],
   "source": [
    "pd.to_datetime(df['TIME'])"
   ]
  },
  {
   "cell_type": "code",
   "execution_count": 12,
   "id": "b90641df-3228-4ec6-8328-5f146dd3b8c8",
   "metadata": {},
   "outputs": [],
   "source": [
    "df['TIME'] = pd.to_datetime(df['TIME'])"
   ]
  },
  {
   "cell_type": "code",
   "execution_count": 13,
   "id": "f0f21101-ecd4-413d-8a30-1b911b305b1a",
   "metadata": {},
   "outputs": [
    {
     "data": {
      "text/html": [
       "<div>\n",
       "<style scoped>\n",
       "    .dataframe tbody tr th:only-of-type {\n",
       "        vertical-align: middle;\n",
       "    }\n",
       "\n",
       "    .dataframe tbody tr th {\n",
       "        vertical-align: top;\n",
       "    }\n",
       "\n",
       "    .dataframe thead th {\n",
       "        text-align: right;\n",
       "    }\n",
       "</style>\n",
       "<table border=\"1\" class=\"dataframe\">\n",
       "  <thead>\n",
       "    <tr style=\"text-align: right;\">\n",
       "      <th></th>\n",
       "      <th>TIME</th>\n",
       "      <th>GE</th>\n",
       "      <th>FR</th>\n",
       "      <th>GR</th>\n",
       "    </tr>\n",
       "  </thead>\n",
       "  <tbody>\n",
       "    <tr>\n",
       "      <th>0</th>\n",
       "      <td>2014-12-01</td>\n",
       "      <td>99.5</td>\n",
       "      <td>100.90</td>\n",
       "      <td>100.54</td>\n",
       "    </tr>\n",
       "    <tr>\n",
       "      <th>1</th>\n",
       "      <td>2015-01-01</td>\n",
       "      <td>99.3</td>\n",
       "      <td>100.68</td>\n",
       "      <td>101.42</td>\n",
       "    </tr>\n",
       "    <tr>\n",
       "      <th>2</th>\n",
       "      <td>2015-02-01</td>\n",
       "      <td>100.1</td>\n",
       "      <td>100.68</td>\n",
       "      <td>100.95</td>\n",
       "    </tr>\n",
       "    <tr>\n",
       "      <th>3</th>\n",
       "      <td>2015-03-01</td>\n",
       "      <td>100.1</td>\n",
       "      <td>100.65</td>\n",
       "      <td>99.91</td>\n",
       "    </tr>\n",
       "    <tr>\n",
       "      <th>4</th>\n",
       "      <td>2015-04-01</td>\n",
       "      <td>100.4</td>\n",
       "      <td>100.17</td>\n",
       "      <td>99.27</td>\n",
       "    </tr>\n",
       "    <tr>\n",
       "      <th>...</th>\n",
       "      <td>...</td>\n",
       "      <td>...</td>\n",
       "      <td>...</td>\n",
       "      <td>...</td>\n",
       "    </tr>\n",
       "    <tr>\n",
       "      <th>119</th>\n",
       "      <td>2024-11-01</td>\n",
       "      <td>131.5</td>\n",
       "      <td>122.26</td>\n",
       "      <td>137.49</td>\n",
       "    </tr>\n",
       "    <tr>\n",
       "      <th>120</th>\n",
       "      <td>2024-12-01</td>\n",
       "      <td>133.6</td>\n",
       "      <td>122.22</td>\n",
       "      <td>137.86</td>\n",
       "    </tr>\n",
       "    <tr>\n",
       "      <th>121</th>\n",
       "      <td>2025-01-01</td>\n",
       "      <td>131.1</td>\n",
       "      <td>121.88</td>\n",
       "      <td>140.15</td>\n",
       "    </tr>\n",
       "    <tr>\n",
       "      <th>122</th>\n",
       "      <td>2025-02-01</td>\n",
       "      <td>132.2</td>\n",
       "      <td>121.58</td>\n",
       "      <td>140.54</td>\n",
       "    </tr>\n",
       "    <tr>\n",
       "      <th>123</th>\n",
       "      <td>2025-03-01</td>\n",
       "      <td>131.4</td>\n",
       "      <td>121.28</td>\n",
       "      <td>138.02</td>\n",
       "    </tr>\n",
       "  </tbody>\n",
       "</table>\n",
       "<p>124 rows × 4 columns</p>\n",
       "</div>"
      ],
      "text/plain": [
       "          TIME     GE      FR      GR\n",
       "0   2014-12-01   99.5  100.90  100.54\n",
       "1   2015-01-01   99.3  100.68  101.42\n",
       "2   2015-02-01  100.1  100.68  100.95\n",
       "3   2015-03-01  100.1  100.65   99.91\n",
       "4   2015-04-01  100.4  100.17   99.27\n",
       "..         ...    ...     ...     ...\n",
       "119 2024-11-01  131.5  122.26  137.49\n",
       "120 2024-12-01  133.6  122.22  137.86\n",
       "121 2025-01-01  131.1  121.88  140.15\n",
       "122 2025-02-01  132.2  121.58  140.54\n",
       "123 2025-03-01  131.4  121.28  138.02\n",
       "\n",
       "[124 rows x 4 columns]"
      ]
     },
     "execution_count": 13,
     "metadata": {},
     "output_type": "execute_result"
    }
   ],
   "source": [
    "df"
   ]
  },
  {
   "cell_type": "code",
   "execution_count": 14,
   "id": "85983f7e-56f6-48f8-9e27-9ff76be69b6d",
   "metadata": {},
   "outputs": [
    {
     "data": {
      "text/plain": [
       "TIME    datetime64[ns]\n",
       "GE             float64\n",
       "FR             float64\n",
       "GR             float64\n",
       "dtype: object"
      ]
     },
     "execution_count": 14,
     "metadata": {},
     "output_type": "execute_result"
    }
   ],
   "source": [
    "df.dtypes"
   ]
  },
  {
   "cell_type": "markdown",
   "id": "f9fff8a3-d991-46db-9c43-bd3a4eccd270",
   "metadata": {},
   "source": [
    "<strong>Cleaning Data</strong>"
   ]
  },
  {
   "cell_type": "code",
   "execution_count": 15,
   "id": "694acb16-2748-4864-b989-6b86f4e3ef7a",
   "metadata": {},
   "outputs": [
    {
     "data": {
      "text/plain": [
       "True"
      ]
     },
     "execution_count": 15,
     "metadata": {},
     "output_type": "execute_result"
    }
   ],
   "source": [
    "pd.isnull(np.nan)"
   ]
  },
  {
   "cell_type": "code",
   "execution_count": 16,
   "id": "91b9ae61-3b06-47b1-b6f2-4d4ddef8db93",
   "metadata": {},
   "outputs": [
    {
     "data": {
      "text/plain": [
       "False"
      ]
     },
     "execution_count": 16,
     "metadata": {},
     "output_type": "execute_result"
    }
   ],
   "source": [
    "pd.notnull(np.nan)"
   ]
  },
  {
   "cell_type": "code",
   "execution_count": 17,
   "id": "3e091fb0-eab1-4a3b-aba3-79cb37b80b3c",
   "metadata": {},
   "outputs": [
    {
     "name": "stdout",
     "output_type": "stream",
     "text": [
      "TIME    0\n",
      "GE      0\n",
      "FR      0\n",
      "GR      0\n",
      "dtype: int64\n"
     ]
    }
   ],
   "source": [
    "print(df.isnull().sum())"
   ]
  },
  {
   "cell_type": "code",
   "execution_count": 18,
   "id": "8e7bb72a-6da6-46d5-80b8-2e71fd30f683",
   "metadata": {},
   "outputs": [
    {
     "name": "stdout",
     "output_type": "stream",
     "text": [
      "TIME    124\n",
      "GE      124\n",
      "FR      124\n",
      "GR      124\n",
      "dtype: int64\n"
     ]
    }
   ],
   "source": [
    "print(df.notnull().sum())"
   ]
  },
  {
   "cell_type": "code",
   "execution_count": 19,
   "id": "1a8b5edf-1113-44b8-9153-1a9ad164b658",
   "metadata": {},
   "outputs": [],
   "source": [
    "#we have no problem "
   ]
  },
  {
   "cell_type": "markdown",
   "id": "9aaa3171-6d6a-47e5-a63e-55209a04aa38",
   "metadata": {},
   "source": [
    "<strong>Duplicates</strong>"
   ]
  },
  {
   "cell_type": "code",
   "execution_count": 20,
   "id": "eb0d3ef8-6a1f-413b-a246-145e39f11890",
   "metadata": {},
   "outputs": [
    {
     "data": {
      "text/plain": [
       "np.int64(0)"
      ]
     },
     "execution_count": 20,
     "metadata": {},
     "output_type": "execute_result"
    }
   ],
   "source": [
    "df.duplicated().sum()  #we have no problem"
   ]
  },
  {
   "cell_type": "markdown",
   "id": "197df6ac-89b1-427d-a622-7bddc5a5b0b1",
   "metadata": {},
   "source": [
    "<strong>Quick Measures (for Greece)</strong>"
   ]
  },
  {
   "cell_type": "code",
   "execution_count": 21,
   "id": "a2c30b04-f487-43c8-9a2b-0510ddb0d269",
   "metadata": {},
   "outputs": [
    {
     "data": {
      "text/plain": [
       "GR\n",
       "115.39    3\n",
       "115.29    2\n",
       "115.46    2\n",
       "115.60    2\n",
       "100.54    1\n",
       "         ..\n",
       "137.49    1\n",
       "137.86    1\n",
       "140.15    1\n",
       "140.54    1\n",
       "138.02    1\n",
       "Name: count, Length: 119, dtype: int64"
      ]
     },
     "execution_count": 21,
     "metadata": {},
     "output_type": "execute_result"
    }
   ],
   "source": [
    "df['GR'].value_counts()"
   ]
  },
  {
   "cell_type": "code",
   "execution_count": 22,
   "id": "03bfebc7-8153-4569-bcda-40b623d70fec",
   "metadata": {},
   "outputs": [
    {
     "data": {
      "text/plain": [
       "array([100.54, 101.42, 100.95,  99.91,  99.27, 100.8 ,  99.19,  99.08,\n",
       "        98.65,  99.07,  99.69, 100.97, 101.  , 100.65, 101.75, 100.12,\n",
       "       100.43, 100.68, 108.67, 112.09, 112.86, 112.64, 114.12, 114.47,\n",
       "       114.2 , 114.31, 113.3 , 112.46, 111.52, 115.31, 116.5 , 115.2 ,\n",
       "       114.32, 113.23, 113.93, 115.48, 115.29, 115.85, 115.56, 115.39,\n",
       "       115.21, 115.55, 115.37, 115.46, 115.87, 114.96, 115.82, 115.62,\n",
       "       116.45, 116.61, 116.65, 115.32, 115.51, 115.19, 115.6 , 115.59,\n",
       "       114.19, 115.98, 116.86, 116.83, 117.02, 116.76, 116.04, 115.78,\n",
       "       114.01, 114.91, 115.38, 115.45, 116.72, 116.74, 116.19, 116.53,\n",
       "       116.64, 116.07, 116.41, 116.51, 115.47, 114.88, 115.58, 115.42,\n",
       "       114.99, 117.09, 117.19, 118.79, 119.53, 120.12, 121.17, 124.81,\n",
       "       126.05, 126.96, 127.14, 127.36, 127.82, 129.7 , 132.41, 135.95,\n",
       "       134.66, 133.98, 133.75, 135.19, 134.24, 134.3 , 135.64, 134.69,\n",
       "       139.24, 135.39, 135.73, 136.65, 136.55, 141.07, 135.43, 135.87,\n",
       "       136.01, 137.26, 137.49, 137.86, 140.15, 140.54, 138.02])"
      ]
     },
     "execution_count": 22,
     "metadata": {},
     "output_type": "execute_result"
    }
   ],
   "source": [
    "df['GR'].unique()"
   ]
  },
  {
   "cell_type": "code",
   "execution_count": 23,
   "id": "54b3c0ee-4524-4ed1-93ab-e894c9ca095b",
   "metadata": {},
   "outputs": [
    {
     "data": {
      "text/plain": [
       "119"
      ]
     },
     "execution_count": 23,
     "metadata": {},
     "output_type": "execute_result"
    }
   ],
   "source": [
    "df['GR'].nunique()"
   ]
  },
  {
   "cell_type": "markdown",
   "id": "8523f223-48ea-4937-b7a8-63ecb6f65558",
   "metadata": {},
   "source": [
    "<strong>Usefull Statistics</strong>"
   ]
  },
  {
   "cell_type": "code",
   "execution_count": 24,
   "id": "da1abfa6-cd02-4fc3-a4d6-9d8b673dd581",
   "metadata": {},
   "outputs": [
    {
     "data": {
      "text/html": [
       "<div>\n",
       "<style scoped>\n",
       "    .dataframe tbody tr th:only-of-type {\n",
       "        vertical-align: middle;\n",
       "    }\n",
       "\n",
       "    .dataframe tbody tr th {\n",
       "        vertical-align: top;\n",
       "    }\n",
       "\n",
       "    .dataframe thead th {\n",
       "        text-align: right;\n",
       "    }\n",
       "</style>\n",
       "<table border=\"1\" class=\"dataframe\">\n",
       "  <thead>\n",
       "    <tr style=\"text-align: right;\">\n",
       "      <th></th>\n",
       "      <th>TIME</th>\n",
       "      <th>GE</th>\n",
       "      <th>FR</th>\n",
       "      <th>GR</th>\n",
       "    </tr>\n",
       "  </thead>\n",
       "  <tbody>\n",
       "    <tr>\n",
       "      <th>TIME</th>\n",
       "      <td>1.000000</td>\n",
       "      <td>0.888000</td>\n",
       "      <td>0.876555</td>\n",
       "      <td>0.912955</td>\n",
       "    </tr>\n",
       "    <tr>\n",
       "      <th>GE</th>\n",
       "      <td>0.888000</td>\n",
       "      <td>1.000000</td>\n",
       "      <td>0.990237</td>\n",
       "      <td>0.933940</td>\n",
       "    </tr>\n",
       "    <tr>\n",
       "      <th>FR</th>\n",
       "      <td>0.876555</td>\n",
       "      <td>0.990237</td>\n",
       "      <td>1.000000</td>\n",
       "      <td>0.930171</td>\n",
       "    </tr>\n",
       "    <tr>\n",
       "      <th>GR</th>\n",
       "      <td>0.912955</td>\n",
       "      <td>0.933940</td>\n",
       "      <td>0.930171</td>\n",
       "      <td>1.000000</td>\n",
       "    </tr>\n",
       "  </tbody>\n",
       "</table>\n",
       "</div>"
      ],
      "text/plain": [
       "          TIME        GE        FR        GR\n",
       "TIME  1.000000  0.888000  0.876555  0.912955\n",
       "GE    0.888000  1.000000  0.990237  0.933940\n",
       "FR    0.876555  0.990237  1.000000  0.930171\n",
       "GR    0.912955  0.933940  0.930171  1.000000"
      ]
     },
     "execution_count": 24,
     "metadata": {},
     "output_type": "execute_result"
    }
   ],
   "source": [
    "df.corr()"
   ]
  },
  {
   "cell_type": "code",
   "execution_count": 25,
   "id": "77b04c9e-c7d0-4c9a-816b-24c7699f9cba",
   "metadata": {},
   "outputs": [],
   "source": [
    "df['returns'] = df['GE'].pct_change()"
   ]
  },
  {
   "cell_type": "code",
   "execution_count": 26,
   "id": "9c319a80-61ec-4fa1-b13c-2acb471e3c10",
   "metadata": {},
   "outputs": [
    {
     "data": {
      "text/html": [
       "<div>\n",
       "<style scoped>\n",
       "    .dataframe tbody tr th:only-of-type {\n",
       "        vertical-align: middle;\n",
       "    }\n",
       "\n",
       "    .dataframe tbody tr th {\n",
       "        vertical-align: top;\n",
       "    }\n",
       "\n",
       "    .dataframe thead th {\n",
       "        text-align: right;\n",
       "    }\n",
       "</style>\n",
       "<table border=\"1\" class=\"dataframe\">\n",
       "  <thead>\n",
       "    <tr style=\"text-align: right;\">\n",
       "      <th></th>\n",
       "      <th>TIME</th>\n",
       "      <th>GE</th>\n",
       "      <th>FR</th>\n",
       "      <th>GR</th>\n",
       "      <th>returns</th>\n",
       "    </tr>\n",
       "  </thead>\n",
       "  <tbody>\n",
       "    <tr>\n",
       "      <th>0</th>\n",
       "      <td>2014-12-01</td>\n",
       "      <td>99.5</td>\n",
       "      <td>100.90</td>\n",
       "      <td>100.54</td>\n",
       "      <td>NaN</td>\n",
       "    </tr>\n",
       "    <tr>\n",
       "      <th>1</th>\n",
       "      <td>2015-01-01</td>\n",
       "      <td>99.3</td>\n",
       "      <td>100.68</td>\n",
       "      <td>101.42</td>\n",
       "      <td>-0.002010</td>\n",
       "    </tr>\n",
       "    <tr>\n",
       "      <th>2</th>\n",
       "      <td>2015-02-01</td>\n",
       "      <td>100.1</td>\n",
       "      <td>100.68</td>\n",
       "      <td>100.95</td>\n",
       "      <td>0.008056</td>\n",
       "    </tr>\n",
       "    <tr>\n",
       "      <th>3</th>\n",
       "      <td>2015-03-01</td>\n",
       "      <td>100.1</td>\n",
       "      <td>100.65</td>\n",
       "      <td>99.91</td>\n",
       "      <td>0.000000</td>\n",
       "    </tr>\n",
       "    <tr>\n",
       "      <th>4</th>\n",
       "      <td>2015-04-01</td>\n",
       "      <td>100.4</td>\n",
       "      <td>100.17</td>\n",
       "      <td>99.27</td>\n",
       "      <td>0.002997</td>\n",
       "    </tr>\n",
       "    <tr>\n",
       "      <th>...</th>\n",
       "      <td>...</td>\n",
       "      <td>...</td>\n",
       "      <td>...</td>\n",
       "      <td>...</td>\n",
       "      <td>...</td>\n",
       "    </tr>\n",
       "    <tr>\n",
       "      <th>119</th>\n",
       "      <td>2024-11-01</td>\n",
       "      <td>131.5</td>\n",
       "      <td>122.26</td>\n",
       "      <td>137.49</td>\n",
       "      <td>0.002287</td>\n",
       "    </tr>\n",
       "    <tr>\n",
       "      <th>120</th>\n",
       "      <td>2024-12-01</td>\n",
       "      <td>133.6</td>\n",
       "      <td>122.22</td>\n",
       "      <td>137.86</td>\n",
       "      <td>0.015970</td>\n",
       "    </tr>\n",
       "    <tr>\n",
       "      <th>121</th>\n",
       "      <td>2025-01-01</td>\n",
       "      <td>131.1</td>\n",
       "      <td>121.88</td>\n",
       "      <td>140.15</td>\n",
       "      <td>-0.018713</td>\n",
       "    </tr>\n",
       "    <tr>\n",
       "      <th>122</th>\n",
       "      <td>2025-02-01</td>\n",
       "      <td>132.2</td>\n",
       "      <td>121.58</td>\n",
       "      <td>140.54</td>\n",
       "      <td>0.008391</td>\n",
       "    </tr>\n",
       "    <tr>\n",
       "      <th>123</th>\n",
       "      <td>2025-03-01</td>\n",
       "      <td>131.4</td>\n",
       "      <td>121.28</td>\n",
       "      <td>138.02</td>\n",
       "      <td>-0.006051</td>\n",
       "    </tr>\n",
       "  </tbody>\n",
       "</table>\n",
       "<p>124 rows × 5 columns</p>\n",
       "</div>"
      ],
      "text/plain": [
       "          TIME     GE      FR      GR   returns\n",
       "0   2014-12-01   99.5  100.90  100.54       NaN\n",
       "1   2015-01-01   99.3  100.68  101.42 -0.002010\n",
       "2   2015-02-01  100.1  100.68  100.95  0.008056\n",
       "3   2015-03-01  100.1  100.65   99.91  0.000000\n",
       "4   2015-04-01  100.4  100.17   99.27  0.002997\n",
       "..         ...    ...     ...     ...       ...\n",
       "119 2024-11-01  131.5  122.26  137.49  0.002287\n",
       "120 2024-12-01  133.6  122.22  137.86  0.015970\n",
       "121 2025-01-01  131.1  121.88  140.15 -0.018713\n",
       "122 2025-02-01  132.2  121.58  140.54  0.008391\n",
       "123 2025-03-01  131.4  121.28  138.02 -0.006051\n",
       "\n",
       "[124 rows x 5 columns]"
      ]
     },
     "execution_count": 26,
     "metadata": {},
     "output_type": "execute_result"
    }
   ],
   "source": [
    "df"
   ]
  },
  {
   "cell_type": "code",
   "execution_count": 27,
   "id": "2227e84c-bf8c-449a-9896-feda45cbdc78",
   "metadata": {},
   "outputs": [
    {
     "name": "stdout",
     "output_type": "stream",
     "text": [
      "TIME       0\n",
      "GE         0\n",
      "FR         0\n",
      "GR         0\n",
      "returns    1\n",
      "dtype: int64\n"
     ]
    }
   ],
   "source": [
    "print(df.isnull().sum()) #found a NaN value"
   ]
  },
  {
   "cell_type": "code",
   "execution_count": 28,
   "id": "798cf003-0fd2-40e6-b783-695765b07d67",
   "metadata": {},
   "outputs": [
    {
     "data": {
      "text/html": [
       "<div>\n",
       "<style scoped>\n",
       "    .dataframe tbody tr th:only-of-type {\n",
       "        vertical-align: middle;\n",
       "    }\n",
       "\n",
       "    .dataframe tbody tr th {\n",
       "        vertical-align: top;\n",
       "    }\n",
       "\n",
       "    .dataframe thead th {\n",
       "        text-align: right;\n",
       "    }\n",
       "</style>\n",
       "<table border=\"1\" class=\"dataframe\">\n",
       "  <thead>\n",
       "    <tr style=\"text-align: right;\">\n",
       "      <th></th>\n",
       "      <th>TIME</th>\n",
       "      <th>GE</th>\n",
       "      <th>FR</th>\n",
       "      <th>GR</th>\n",
       "      <th>returns</th>\n",
       "    </tr>\n",
       "  </thead>\n",
       "  <tbody>\n",
       "    <tr>\n",
       "      <th>0</th>\n",
       "      <td>2014-12-01</td>\n",
       "      <td>99.5</td>\n",
       "      <td>100.90</td>\n",
       "      <td>100.54</td>\n",
       "      <td>0.000000</td>\n",
       "    </tr>\n",
       "    <tr>\n",
       "      <th>1</th>\n",
       "      <td>2015-01-01</td>\n",
       "      <td>99.3</td>\n",
       "      <td>100.68</td>\n",
       "      <td>101.42</td>\n",
       "      <td>-0.002010</td>\n",
       "    </tr>\n",
       "    <tr>\n",
       "      <th>2</th>\n",
       "      <td>2015-02-01</td>\n",
       "      <td>100.1</td>\n",
       "      <td>100.68</td>\n",
       "      <td>100.95</td>\n",
       "      <td>0.008056</td>\n",
       "    </tr>\n",
       "    <tr>\n",
       "      <th>3</th>\n",
       "      <td>2015-03-01</td>\n",
       "      <td>100.1</td>\n",
       "      <td>100.65</td>\n",
       "      <td>99.91</td>\n",
       "      <td>0.000000</td>\n",
       "    </tr>\n",
       "    <tr>\n",
       "      <th>4</th>\n",
       "      <td>2015-04-01</td>\n",
       "      <td>100.4</td>\n",
       "      <td>100.17</td>\n",
       "      <td>99.27</td>\n",
       "      <td>0.002997</td>\n",
       "    </tr>\n",
       "    <tr>\n",
       "      <th>...</th>\n",
       "      <td>...</td>\n",
       "      <td>...</td>\n",
       "      <td>...</td>\n",
       "      <td>...</td>\n",
       "      <td>...</td>\n",
       "    </tr>\n",
       "    <tr>\n",
       "      <th>119</th>\n",
       "      <td>2024-11-01</td>\n",
       "      <td>131.5</td>\n",
       "      <td>122.26</td>\n",
       "      <td>137.49</td>\n",
       "      <td>0.002287</td>\n",
       "    </tr>\n",
       "    <tr>\n",
       "      <th>120</th>\n",
       "      <td>2024-12-01</td>\n",
       "      <td>133.6</td>\n",
       "      <td>122.22</td>\n",
       "      <td>137.86</td>\n",
       "      <td>0.015970</td>\n",
       "    </tr>\n",
       "    <tr>\n",
       "      <th>121</th>\n",
       "      <td>2025-01-01</td>\n",
       "      <td>131.1</td>\n",
       "      <td>121.88</td>\n",
       "      <td>140.15</td>\n",
       "      <td>-0.018713</td>\n",
       "    </tr>\n",
       "    <tr>\n",
       "      <th>122</th>\n",
       "      <td>2025-02-01</td>\n",
       "      <td>132.2</td>\n",
       "      <td>121.58</td>\n",
       "      <td>140.54</td>\n",
       "      <td>0.008391</td>\n",
       "    </tr>\n",
       "    <tr>\n",
       "      <th>123</th>\n",
       "      <td>2025-03-01</td>\n",
       "      <td>131.4</td>\n",
       "      <td>121.28</td>\n",
       "      <td>138.02</td>\n",
       "      <td>-0.006051</td>\n",
       "    </tr>\n",
       "  </tbody>\n",
       "</table>\n",
       "<p>124 rows × 5 columns</p>\n",
       "</div>"
      ],
      "text/plain": [
       "          TIME     GE      FR      GR   returns\n",
       "0   2014-12-01   99.5  100.90  100.54  0.000000\n",
       "1   2015-01-01   99.3  100.68  101.42 -0.002010\n",
       "2   2015-02-01  100.1  100.68  100.95  0.008056\n",
       "3   2015-03-01  100.1  100.65   99.91  0.000000\n",
       "4   2015-04-01  100.4  100.17   99.27  0.002997\n",
       "..         ...    ...     ...     ...       ...\n",
       "119 2024-11-01  131.5  122.26  137.49  0.002287\n",
       "120 2024-12-01  133.6  122.22  137.86  0.015970\n",
       "121 2025-01-01  131.1  121.88  140.15 -0.018713\n",
       "122 2025-02-01  132.2  121.58  140.54  0.008391\n",
       "123 2025-03-01  131.4  121.28  138.02 -0.006051\n",
       "\n",
       "[124 rows x 5 columns]"
      ]
     },
     "execution_count": 28,
     "metadata": {},
     "output_type": "execute_result"
    }
   ],
   "source": [
    "df.fillna(0) #fixed it"
   ]
  },
  {
   "cell_type": "markdown",
   "id": "a0a17049-a50c-45fb-946b-4a001c177e96",
   "metadata": {},
   "source": [
    "<strong>Plot (Comparison between countrys)</strong>"
   ]
  },
  {
   "cell_type": "code",
   "execution_count": 29,
   "id": "69524c9d-7819-4c1c-979c-53e4a1d337a1",
   "metadata": {},
   "outputs": [
    {
     "data": {
      "image/png": "[encoded data removed]",
      "text/plain": [
       "<Figure size 640x480 with 1 Axes>"
      ]
     },
     "metadata": {},
     "output_type": "display_data"
    }
   ],
   "source": [
    "plt.plot(df['TIME'], df['GE'], label='Germany', color='red')\n",
    "plt.plot(df['TIME'], df['FR'], label='France', color='Yellow')\n",
    "plt.plot(df['TIME'], df['GR'], label='Greece', color='blue')\n",
    "plt.title('Lager Prices Comparison')\n",
    "plt.xlabel('Time')\n",
    "plt.ylabel('Lager Prices')\n",
    "plt.legend()\n",
    "plt.show()"
   ]
  }
 ],
 "metadata": {
  "kernelspec": {
   "display_name": "Python 3 (ipykernel)",
   "language": "python",
   "name": "python3"
  },
  "language_info": {
   "codemirror_mode": {
    "name": "ipython",
    "version": 3
   },
   "file_extension": ".py",
   "mimetype": "text/x-python",
   "name": "python",
   "nbconvert_exporter": "python",
   "pygments_lexer": "ipython3",
   "version": "3.11.13"
  }
 },
 "nbformat": 4,
 "nbformat_minor": 5
}
